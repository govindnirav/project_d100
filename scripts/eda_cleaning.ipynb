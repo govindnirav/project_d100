{
 "cells": [
  {
   "cell_type": "markdown",
   "metadata": {},
   "source": [
    "# Exploratory Data Analysis and Cleaning"
   ]
  },
  {
   "cell_type": "markdown",
   "metadata": {},
   "source": [
    "## Importing packages"
   ]
  },
  {
   "cell_type": "code",
   "execution_count": 1,
   "metadata": {},
   "outputs": [],
   "source": [
    "import polars as pl\n",
    "from project_d100.data import load_data, summary, extract_day, denormalize"
   ]
  },
  {
   "cell_type": "code",
   "execution_count": 2,
   "metadata": {},
   "outputs": [
    {
     "data": {
      "text/plain": [
       "polars.config.Config"
      ]
     },
     "execution_count": 2,
     "metadata": {},
     "output_type": "execute_result"
    }
   ],
   "source": [
    "# Configure the display of tables\n",
    "pl.Config.set_tbl_width_chars(200)\n",
    "pl.Config.set_tbl_cols(-1)\n",
    "pl.Config.set_tbl_rows(10)"
   ]
  },
  {
   "cell_type": "markdown",
   "metadata": {},
   "source": [
    "## EDA: Part 1"
   ]
  },
  {
   "cell_type": "code",
   "execution_count": 3,
   "metadata": {},
   "outputs": [
    {
     "data": {
      "text/html": [
       "<div><style>\n",
       ".dataframe > thead > tr,\n",
       ".dataframe > tbody > tr {\n",
       "  text-align: right;\n",
       "  white-space: pre-wrap;\n",
       "}\n",
       "</style>\n",
       "<small>shape: (5, 17)</small><table border=\"1\" class=\"dataframe\"><thead><tr><th>instant</th><th>dteday</th><th>season</th><th>yr</th><th>mnth</th><th>hr</th><th>holiday</th><th>weekday</th><th>workingday</th><th>weathersit</th><th>temp</th><th>atemp</th><th>hum</th><th>windspeed</th><th>casual</th><th>registered</th><th>cnt</th></tr><tr><td>i64</td><td>str</td><td>i64</td><td>i64</td><td>i64</td><td>i64</td><td>i64</td><td>i64</td><td>i64</td><td>i64</td><td>f64</td><td>f64</td><td>f64</td><td>f64</td><td>i64</td><td>i64</td><td>i64</td></tr></thead><tbody><tr><td>1</td><td>&quot;2011-01-01&quot;</td><td>1</td><td>0</td><td>1</td><td>0</td><td>0</td><td>6</td><td>0</td><td>1</td><td>0.24</td><td>0.2879</td><td>0.81</td><td>0.0</td><td>3</td><td>13</td><td>16</td></tr><tr><td>2</td><td>&quot;2011-01-01&quot;</td><td>1</td><td>0</td><td>1</td><td>1</td><td>0</td><td>6</td><td>0</td><td>1</td><td>0.22</td><td>0.2727</td><td>0.8</td><td>0.0</td><td>8</td><td>32</td><td>40</td></tr><tr><td>3</td><td>&quot;2011-01-01&quot;</td><td>1</td><td>0</td><td>1</td><td>2</td><td>0</td><td>6</td><td>0</td><td>1</td><td>0.22</td><td>0.2727</td><td>0.8</td><td>0.0</td><td>5</td><td>27</td><td>32</td></tr><tr><td>4</td><td>&quot;2011-01-01&quot;</td><td>1</td><td>0</td><td>1</td><td>3</td><td>0</td><td>6</td><td>0</td><td>1</td><td>0.24</td><td>0.2879</td><td>0.75</td><td>0.0</td><td>3</td><td>10</td><td>13</td></tr><tr><td>5</td><td>&quot;2011-01-01&quot;</td><td>1</td><td>0</td><td>1</td><td>4</td><td>0</td><td>6</td><td>0</td><td>1</td><td>0.24</td><td>0.2879</td><td>0.75</td><td>0.0</td><td>0</td><td>1</td><td>1</td></tr></tbody></table></div>"
      ],
      "text/plain": [
       "shape: (5, 17)\n",
       "┌─────────┬────────────┬────────┬─────┬──────┬─────┬─────────┬─────────┬────────────┬────────────┬──────┬────────┬──────┬───────────┬────────┬────────────┬─────┐\n",
       "│ instant ┆ dteday     ┆ season ┆ yr  ┆ mnth ┆ hr  ┆ holiday ┆ weekday ┆ workingday ┆ weathersit ┆ temp ┆ atemp  ┆ hum  ┆ windspeed ┆ casual ┆ registered ┆ cnt │\n",
       "│ ---     ┆ ---        ┆ ---    ┆ --- ┆ ---  ┆ --- ┆ ---     ┆ ---     ┆ ---        ┆ ---        ┆ ---  ┆ ---    ┆ ---  ┆ ---       ┆ ---    ┆ ---        ┆ --- │\n",
       "│ i64     ┆ str        ┆ i64    ┆ i64 ┆ i64  ┆ i64 ┆ i64     ┆ i64     ┆ i64        ┆ i64        ┆ f64  ┆ f64    ┆ f64  ┆ f64       ┆ i64    ┆ i64        ┆ i64 │\n",
       "╞═════════╪════════════╪════════╪═════╪══════╪═════╪═════════╪═════════╪════════════╪════════════╪══════╪════════╪══════╪═══════════╪════════╪════════════╪═════╡\n",
       "│ 1       ┆ 2011-01-01 ┆ 1      ┆ 0   ┆ 1    ┆ 0   ┆ 0       ┆ 6       ┆ 0          ┆ 1          ┆ 0.24 ┆ 0.2879 ┆ 0.81 ┆ 0.0       ┆ 3      ┆ 13         ┆ 16  │\n",
       "│ 2       ┆ 2011-01-01 ┆ 1      ┆ 0   ┆ 1    ┆ 1   ┆ 0       ┆ 6       ┆ 0          ┆ 1          ┆ 0.22 ┆ 0.2727 ┆ 0.8  ┆ 0.0       ┆ 8      ┆ 32         ┆ 40  │\n",
       "│ 3       ┆ 2011-01-01 ┆ 1      ┆ 0   ┆ 1    ┆ 2   ┆ 0       ┆ 6       ┆ 0          ┆ 1          ┆ 0.22 ┆ 0.2727 ┆ 0.8  ┆ 0.0       ┆ 5      ┆ 27         ┆ 32  │\n",
       "│ 4       ┆ 2011-01-01 ┆ 1      ┆ 0   ┆ 1    ┆ 3   ┆ 0       ┆ 6       ┆ 0          ┆ 1          ┆ 0.24 ┆ 0.2879 ┆ 0.75 ┆ 0.0       ┆ 3      ┆ 10         ┆ 13  │\n",
       "│ 5       ┆ 2011-01-01 ┆ 1      ┆ 0   ┆ 1    ┆ 4   ┆ 0       ┆ 6       ┆ 0          ┆ 1          ┆ 0.24 ┆ 0.2879 ┆ 0.75 ┆ 0.0       ┆ 0      ┆ 1          ┆ 1   │\n",
       "└─────────┴────────────┴────────┴─────┴──────┴─────┴─────────┴─────────┴────────────┴────────────┴──────┴────────┴──────┴───────────┴────────┴────────────┴─────┘"
      ]
     },
     "execution_count": 3,
     "metadata": {},
     "output_type": "execute_result"
    }
   ],
   "source": [
    "df = load_data()\n",
    "df.head(n=5)"
   ]
  },
  {
   "cell_type": "code",
   "execution_count": 4,
   "metadata": {},
   "outputs": [
    {
     "name": "stdout",
     "output_type": "stream",
     "text": [
      "\n",
      "Data Shape (rows, columns)\n",
      "(17379, 17)\n",
      "\n",
      "Data Types of Columns\n",
      "[Int64, String, Int64, Int64, Int64, Int64, Int64, Int64, Int64, Int64, Float64, Float64, Float64, Float64, Int64, Int64, Int64]\n",
      "\n",
      "Statistical Summary\n",
      "shape: (9, 18)\n",
      "┌───────────┬──────────┬──────────┬──────────┬──────────┬──────────┬──────────┬──────────┬──────────┬──────────┬──────────┬──────────┬──────────┬──────────┬──────────┬──────────┬──────────┬──────────┐\n",
      "│ statistic ┆ instant  ┆ dteday   ┆ season   ┆ yr       ┆ mnth     ┆ hr       ┆ holiday  ┆ weekday  ┆ workingd ┆ weathers ┆ temp     ┆ atemp    ┆ hum      ┆ windspee ┆ casual   ┆ register ┆ cnt      │\n",
      "│ ---       ┆ ---      ┆ ---      ┆ ---      ┆ ---      ┆ ---      ┆ ---      ┆ ---      ┆ ---      ┆ ay       ┆ it       ┆ ---      ┆ ---      ┆ ---      ┆ d        ┆ ---      ┆ ed       ┆ ---      │\n",
      "│ str       ┆ f64      ┆ str      ┆ f64      ┆ f64      ┆ f64      ┆ f64      ┆ f64      ┆ f64      ┆ ---      ┆ ---      ┆ f64      ┆ f64      ┆ f64      ┆ ---      ┆ f64      ┆ ---      ┆ f64      │\n",
      "│           ┆          ┆          ┆          ┆          ┆          ┆          ┆          ┆          ┆ f64      ┆ f64      ┆          ┆          ┆          ┆ f64      ┆          ┆ f64      ┆          │\n",
      "╞═══════════╪══════════╪══════════╪══════════╪══════════╪══════════╪══════════╪══════════╪══════════╪══════════╪══════════╪══════════╪══════════╪══════════╪══════════╪══════════╪══════════╪══════════╡\n",
      "│ count     ┆ 17379.0  ┆ 17379    ┆ 17379.0  ┆ 17379.0  ┆ 17379.0  ┆ 17379.0  ┆ 17379.0  ┆ 17379.0  ┆ 17379.0  ┆ 17379.0  ┆ 17379.0  ┆ 17379.0  ┆ 17379.0  ┆ 17379.0  ┆ 17379.0  ┆ 17379.0  ┆ 17379.0  │\n",
      "│ null_coun ┆ 0.0      ┆ 0        ┆ 0.0      ┆ 0.0      ┆ 0.0      ┆ 0.0      ┆ 0.0      ┆ 0.0      ┆ 0.0      ┆ 0.0      ┆ 0.0      ┆ 0.0      ┆ 0.0      ┆ 0.0      ┆ 0.0      ┆ 0.0      ┆ 0.0      │\n",
      "│ t         ┆          ┆          ┆          ┆          ┆          ┆          ┆          ┆          ┆          ┆          ┆          ┆          ┆          ┆          ┆          ┆          ┆          │\n",
      "│ mean      ┆ 8690.0   ┆ null     ┆ 2.50164  ┆ 0.502561 ┆ 6.537775 ┆ 11.54675 ┆ 0.02877  ┆ 3.003683 ┆ 0.682721 ┆ 1.425283 ┆ 0.496987 ┆ 0.475775 ┆ 0.627229 ┆ 0.190098 ┆ 35.67621 ┆ 153.7868 ┆ 189.4630 │\n",
      "│           ┆          ┆          ┆          ┆          ┆          ┆ 2        ┆          ┆          ┆          ┆          ┆          ┆          ┆          ┆          ┆ 8        ┆ 69       ┆ 88       │\n",
      "│ std       ┆ 5017.029 ┆ null     ┆ 1.106918 ┆ 0.500008 ┆ 3.438776 ┆ 6.914405 ┆ 0.167165 ┆ 2.005771 ┆ 0.465431 ┆ 0.639357 ┆ 0.192556 ┆ 0.17185  ┆ 0.19293  ┆ 0.12234  ┆ 49.30503 ┆ 151.3572 ┆ 181.3875 │\n",
      "│           ┆ 5        ┆          ┆          ┆          ┆          ┆          ┆          ┆          ┆          ┆          ┆          ┆          ┆          ┆          ┆          ┆ 86       ┆ 99       │\n",
      "│ min       ┆ 1.0      ┆ 2011-01- ┆ 1.0      ┆ 0.0      ┆ 1.0      ┆ 0.0      ┆ 0.0      ┆ 0.0      ┆ 0.0      ┆ 1.0      ┆ 0.02     ┆ 0.0      ┆ 0.0      ┆ 0.0      ┆ 0.0      ┆ 0.0      ┆ 1.0      │\n",
      "│           ┆          ┆ 01       ┆          ┆          ┆          ┆          ┆          ┆          ┆          ┆          ┆          ┆          ┆          ┆          ┆          ┆          ┆          │\n",
      "│ 25%       ┆ 4346.0   ┆ null     ┆ 2.0      ┆ 0.0      ┆ 4.0      ┆ 6.0      ┆ 0.0      ┆ 1.0      ┆ 0.0      ┆ 1.0      ┆ 0.34     ┆ 0.3333   ┆ 0.48     ┆ 0.1045   ┆ 4.0      ┆ 34.0     ┆ 40.0     │\n",
      "│ 50%       ┆ 8690.0   ┆ null     ┆ 3.0      ┆ 1.0      ┆ 7.0      ┆ 12.0     ┆ 0.0      ┆ 3.0      ┆ 1.0      ┆ 1.0      ┆ 0.5      ┆ 0.4848   ┆ 0.63     ┆ 0.194    ┆ 17.0     ┆ 115.0    ┆ 142.0    │\n",
      "│ 75%       ┆ 13035.0  ┆ null     ┆ 3.0      ┆ 1.0      ┆ 10.0     ┆ 18.0     ┆ 0.0      ┆ 5.0      ┆ 1.0      ┆ 2.0      ┆ 0.66     ┆ 0.6212   ┆ 0.78     ┆ 0.2537   ┆ 48.0     ┆ 220.0    ┆ 281.0    │\n",
      "│ max       ┆ 17379.0  ┆ 2012-12- ┆ 4.0      ┆ 1.0      ┆ 12.0     ┆ 23.0     ┆ 1.0      ┆ 6.0      ┆ 1.0      ┆ 4.0      ┆ 1.0      ┆ 1.0      ┆ 1.0      ┆ 0.8507   ┆ 367.0    ┆ 886.0    ┆ 977.0    │\n",
      "│           ┆          ┆ 31       ┆          ┆          ┆          ┆          ┆          ┆          ┆          ┆          ┆          ┆          ┆          ┆          ┆          ┆          ┆          │\n",
      "└───────────┴──────────┴──────────┴──────────┴──────────┴──────────┴──────────┴──────────┴──────────┴──────────┴──────────┴──────────┴──────────┴──────────┴──────────┴──────────┴──────────┴──────────┘\n"
     ]
    },
    {
     "data": {
      "text/html": [
       "<div><style>\n",
       ".dataframe > thead > tr,\n",
       ".dataframe > tbody > tr {\n",
       "  text-align: right;\n",
       "  white-space: pre-wrap;\n",
       "}\n",
       "</style>\n",
       "<small>shape: (17_379, 17)</small><table border=\"1\" class=\"dataframe\"><thead><tr><th>instant</th><th>dteday</th><th>season</th><th>yr</th><th>mnth</th><th>hr</th><th>holiday</th><th>weekday</th><th>workingday</th><th>weathersit</th><th>temp</th><th>atemp</th><th>hum</th><th>windspeed</th><th>casual</th><th>registered</th><th>cnt</th></tr><tr><td>i64</td><td>str</td><td>i64</td><td>i64</td><td>i64</td><td>i64</td><td>i64</td><td>i64</td><td>i64</td><td>i64</td><td>f64</td><td>f64</td><td>f64</td><td>f64</td><td>i64</td><td>i64</td><td>i64</td></tr></thead><tbody><tr><td>1</td><td>&quot;2011-01-01&quot;</td><td>1</td><td>0</td><td>1</td><td>0</td><td>0</td><td>6</td><td>0</td><td>1</td><td>0.24</td><td>0.2879</td><td>0.81</td><td>0.0</td><td>3</td><td>13</td><td>16</td></tr><tr><td>2</td><td>&quot;2011-01-01&quot;</td><td>1</td><td>0</td><td>1</td><td>1</td><td>0</td><td>6</td><td>0</td><td>1</td><td>0.22</td><td>0.2727</td><td>0.8</td><td>0.0</td><td>8</td><td>32</td><td>40</td></tr><tr><td>3</td><td>&quot;2011-01-01&quot;</td><td>1</td><td>0</td><td>1</td><td>2</td><td>0</td><td>6</td><td>0</td><td>1</td><td>0.22</td><td>0.2727</td><td>0.8</td><td>0.0</td><td>5</td><td>27</td><td>32</td></tr><tr><td>4</td><td>&quot;2011-01-01&quot;</td><td>1</td><td>0</td><td>1</td><td>3</td><td>0</td><td>6</td><td>0</td><td>1</td><td>0.24</td><td>0.2879</td><td>0.75</td><td>0.0</td><td>3</td><td>10</td><td>13</td></tr><tr><td>5</td><td>&quot;2011-01-01&quot;</td><td>1</td><td>0</td><td>1</td><td>4</td><td>0</td><td>6</td><td>0</td><td>1</td><td>0.24</td><td>0.2879</td><td>0.75</td><td>0.0</td><td>0</td><td>1</td><td>1</td></tr><tr><td>&hellip;</td><td>&hellip;</td><td>&hellip;</td><td>&hellip;</td><td>&hellip;</td><td>&hellip;</td><td>&hellip;</td><td>&hellip;</td><td>&hellip;</td><td>&hellip;</td><td>&hellip;</td><td>&hellip;</td><td>&hellip;</td><td>&hellip;</td><td>&hellip;</td><td>&hellip;</td><td>&hellip;</td></tr><tr><td>17375</td><td>&quot;2012-12-31&quot;</td><td>1</td><td>1</td><td>12</td><td>19</td><td>0</td><td>1</td><td>1</td><td>2</td><td>0.26</td><td>0.2576</td><td>0.6</td><td>0.1642</td><td>11</td><td>108</td><td>119</td></tr><tr><td>17376</td><td>&quot;2012-12-31&quot;</td><td>1</td><td>1</td><td>12</td><td>20</td><td>0</td><td>1</td><td>1</td><td>2</td><td>0.26</td><td>0.2576</td><td>0.6</td><td>0.1642</td><td>8</td><td>81</td><td>89</td></tr><tr><td>17377</td><td>&quot;2012-12-31&quot;</td><td>1</td><td>1</td><td>12</td><td>21</td><td>0</td><td>1</td><td>1</td><td>1</td><td>0.26</td><td>0.2576</td><td>0.6</td><td>0.1642</td><td>7</td><td>83</td><td>90</td></tr><tr><td>17378</td><td>&quot;2012-12-31&quot;</td><td>1</td><td>1</td><td>12</td><td>22</td><td>0</td><td>1</td><td>1</td><td>1</td><td>0.26</td><td>0.2727</td><td>0.56</td><td>0.1343</td><td>13</td><td>48</td><td>61</td></tr><tr><td>17379</td><td>&quot;2012-12-31&quot;</td><td>1</td><td>1</td><td>12</td><td>23</td><td>0</td><td>1</td><td>1</td><td>1</td><td>0.26</td><td>0.2727</td><td>0.65</td><td>0.1343</td><td>12</td><td>37</td><td>49</td></tr></tbody></table></div>"
      ],
      "text/plain": [
       "shape: (17_379, 17)\n",
       "┌─────────┬────────────┬────────┬─────┬──────┬─────┬─────────┬─────────┬────────────┬────────────┬──────┬────────┬──────┬───────────┬────────┬────────────┬─────┐\n",
       "│ instant ┆ dteday     ┆ season ┆ yr  ┆ mnth ┆ hr  ┆ holiday ┆ weekday ┆ workingday ┆ weathersit ┆ temp ┆ atemp  ┆ hum  ┆ windspeed ┆ casual ┆ registered ┆ cnt │\n",
       "│ ---     ┆ ---        ┆ ---    ┆ --- ┆ ---  ┆ --- ┆ ---     ┆ ---     ┆ ---        ┆ ---        ┆ ---  ┆ ---    ┆ ---  ┆ ---       ┆ ---    ┆ ---        ┆ --- │\n",
       "│ i64     ┆ str        ┆ i64    ┆ i64 ┆ i64  ┆ i64 ┆ i64     ┆ i64     ┆ i64        ┆ i64        ┆ f64  ┆ f64    ┆ f64  ┆ f64       ┆ i64    ┆ i64        ┆ i64 │\n",
       "╞═════════╪════════════╪════════╪═════╪══════╪═════╪═════════╪═════════╪════════════╪════════════╪══════╪════════╪══════╪═══════════╪════════╪════════════╪═════╡\n",
       "│ 1       ┆ 2011-01-01 ┆ 1      ┆ 0   ┆ 1    ┆ 0   ┆ 0       ┆ 6       ┆ 0          ┆ 1          ┆ 0.24 ┆ 0.2879 ┆ 0.81 ┆ 0.0       ┆ 3      ┆ 13         ┆ 16  │\n",
       "│ 2       ┆ 2011-01-01 ┆ 1      ┆ 0   ┆ 1    ┆ 1   ┆ 0       ┆ 6       ┆ 0          ┆ 1          ┆ 0.22 ┆ 0.2727 ┆ 0.8  ┆ 0.0       ┆ 8      ┆ 32         ┆ 40  │\n",
       "│ 3       ┆ 2011-01-01 ┆ 1      ┆ 0   ┆ 1    ┆ 2   ┆ 0       ┆ 6       ┆ 0          ┆ 1          ┆ 0.22 ┆ 0.2727 ┆ 0.8  ┆ 0.0       ┆ 5      ┆ 27         ┆ 32  │\n",
       "│ 4       ┆ 2011-01-01 ┆ 1      ┆ 0   ┆ 1    ┆ 3   ┆ 0       ┆ 6       ┆ 0          ┆ 1          ┆ 0.24 ┆ 0.2879 ┆ 0.75 ┆ 0.0       ┆ 3      ┆ 10         ┆ 13  │\n",
       "│ 5       ┆ 2011-01-01 ┆ 1      ┆ 0   ┆ 1    ┆ 4   ┆ 0       ┆ 6       ┆ 0          ┆ 1          ┆ 0.24 ┆ 0.2879 ┆ 0.75 ┆ 0.0       ┆ 0      ┆ 1          ┆ 1   │\n",
       "│ …       ┆ …          ┆ …      ┆ …   ┆ …    ┆ …   ┆ …       ┆ …       ┆ …          ┆ …          ┆ …    ┆ …      ┆ …    ┆ …         ┆ …      ┆ …          ┆ …   │\n",
       "│ 17375   ┆ 2012-12-31 ┆ 1      ┆ 1   ┆ 12   ┆ 19  ┆ 0       ┆ 1       ┆ 1          ┆ 2          ┆ 0.26 ┆ 0.2576 ┆ 0.6  ┆ 0.1642    ┆ 11     ┆ 108        ┆ 119 │\n",
       "│ 17376   ┆ 2012-12-31 ┆ 1      ┆ 1   ┆ 12   ┆ 20  ┆ 0       ┆ 1       ┆ 1          ┆ 2          ┆ 0.26 ┆ 0.2576 ┆ 0.6  ┆ 0.1642    ┆ 8      ┆ 81         ┆ 89  │\n",
       "│ 17377   ┆ 2012-12-31 ┆ 1      ┆ 1   ┆ 12   ┆ 21  ┆ 0       ┆ 1       ┆ 1          ┆ 1          ┆ 0.26 ┆ 0.2576 ┆ 0.6  ┆ 0.1642    ┆ 7      ┆ 83         ┆ 90  │\n",
       "│ 17378   ┆ 2012-12-31 ┆ 1      ┆ 1   ┆ 12   ┆ 22  ┆ 0       ┆ 1       ┆ 1          ┆ 1          ┆ 0.26 ┆ 0.2727 ┆ 0.56 ┆ 0.1343    ┆ 13     ┆ 48         ┆ 61  │\n",
       "│ 17379   ┆ 2012-12-31 ┆ 1      ┆ 1   ┆ 12   ┆ 23  ┆ 0       ┆ 1       ┆ 1          ┆ 1          ┆ 0.26 ┆ 0.2727 ┆ 0.65 ┆ 0.1343    ┆ 12     ┆ 37         ┆ 49  │\n",
       "└─────────┴────────────┴────────┴─────┴──────┴─────┴─────────┴─────────┴────────────┴────────────┴──────┴────────┴──────┴───────────┴────────┴────────────┴─────┘"
      ]
     },
     "execution_count": 4,
     "metadata": {},
     "output_type": "execute_result"
    }
   ],
   "source": [
    "summary(df)"
   ]
  },
  {
   "cell_type": "markdown",
   "metadata": {},
   "source": [
    "## TODO from summary(df):\n",
    "- season, year, and mnth features were extracted from dteday (I extract day, then drop dteday)\n",
    "- The following features need to be turned into categoricals: season, year, mnth, hr, holiday, weekday, workingday, weathersit\n",
    "- De-normalise data for following features: temp (41), atemp (50), hum (100), windspeed (67)\n",
    "    - According to Readme.txt, they normalised data by dividing by max values (in the parentheses above)\n"
   ]
  },
  {
   "cell_type": "code",
   "execution_count": 5,
   "metadata": {},
   "outputs": [],
   "source": [
    "df = extract_day(df, \"dteday\")"
   ]
  },
  {
   "cell_type": "code",
   "execution_count": 6,
   "metadata": {},
   "outputs": [],
   "source": [
    "normalized_cols = {\"temp\" : 41, \"atemp\" : 50, \"hum\" : 100, \"windspeed\" : 67}\n",
    "for col, value in normalized_cols.items():\n",
    "    df = denormalize(df, col, value)"
   ]
  },
  {
   "cell_type": "markdown",
   "metadata": {},
   "source": [
    "## EDA: Part 2"
   ]
  },
  {
   "cell_type": "code",
   "execution_count": null,
   "metadata": {},
   "outputs": [],
   "source": []
  }
 ],
 "metadata": {
  "kernelspec": {
   "display_name": "project_d100",
   "language": "python",
   "name": "python3"
  },
  "language_info": {
   "codemirror_mode": {
    "name": "ipython",
    "version": 3
   },
   "file_extension": ".py",
   "mimetype": "text/x-python",
   "name": "python",
   "nbconvert_exporter": "python",
   "pygments_lexer": "ipython3",
   "version": "3.13.0"
  }
 },
 "nbformat": 4,
 "nbformat_minor": 2
}
